{
 "cells": [
  {
   "cell_type": "code",
   "execution_count": 42,
   "metadata": {},
   "outputs": [],
   "source": [
    "# import libraries\n",
    "import pandas as pd\n",
    "import numpy as np\n",
    "import pyspark\n",
    "from pyspark.sql import SparkSession\n",
    "from pyspark.sql.functions import *\n",
    "import seaborn as sns\n",
    "# from pyspark.sql.types import IntegerType\n",
    "# from pyspark.ml.evaluation import MulticlassClassificationEvaluator\n",
    "# from pyspark.ml import Pipeline\n",
    "# from pyspark.ml.feature import StringIndexer\n",
    "# from pyspark.ml.feature import OneHotEncoderEstimator\n",
    "# from pyspark.ml.feature import StandardScaler\n",
    "# from pyspark.ml.tuning import ParamGridBuilder, CrossValidator\n",
    "# from pyspark.ml.classification import RandomForestClassifier\n",
    "# from pyspark.ml.classification import DecisionTreeClassifier\n",
    "# from pyspark.ml.feature import Normalizer\n",
    "# import pingouin as pg\n"
   ]
  },
  {
   "cell_type": "code",
   "execution_count": 2,
   "metadata": {},
   "outputs": [
    {
     "name": "stderr",
     "output_type": "stream",
     "text": [
      "Setting default log level to \"WARN\".\n",
      "To adjust logging level use sc.setLogLevel(newLevel). For SparkR, use setLogLevel(newLevel).\n",
      "24/01/04 05:36:22 WARN NativeCodeLoader: Unable to load native-hadoop library for your platform... using builtin-java classes where applicable\n"
     ]
    }
   ],
   "source": [
    "# Create spark session\n",
    "spark = SparkSession.builder.appName('Analysis').getOrCreate()\n",
    "\n",
    "# Load excel datasets into pandas dataframes\n",
    "ref = pd.read_excel('./datasets/reccrime-offence-ref.xlsx')\n",
    "tables = pd.read_excel('./datasets/prc-pfa-mar2013-onwards-tables-191023.xlsx', sheet_name=None)"
   ]
  },
  {
   "cell_type": "code",
   "execution_count": 3,
   "metadata": {},
   "outputs": [],
   "source": [
    "# Select the table of interest and create a dataframe\n",
    "yr_2019_20 = tables['2019-20']\n",
    "yr_2020_21 = tables['2020-21']\n",
    "yr_2021_22 = tables['2021-22']\n",
    "yr_2022_23 = tables['2022-23']\n",
    "yr_2023_24 = tables['2023-24']"
   ]
  },
  {
   "cell_type": "code",
   "execution_count": 4,
   "metadata": {},
   "outputs": [],
   "source": [
    "# Convert table  and offence_ref_ps to pyspark dataframe\n",
    "offence_ref = spark.createDataFrame(ref)\n",
    "df_2019_20 = spark.createDataFrame(yr_2019_20)\n",
    "df_2020_21 = spark.createDataFrame(yr_2020_21)\n",
    "df_2021_22 = spark.createDataFrame(yr_2021_22)\n",
    "df_2022_23 = spark.createDataFrame(yr_2022_23)\n",
    "df_2023_24 = spark.createDataFrame(yr_2023_24)"
   ]
  },
  {
   "cell_type": "code",
   "execution_count": 5,
   "metadata": {},
   "outputs": [],
   "source": [
    "# Create temporary views of the dataframes\n",
    "df_2019_20.createOrReplaceTempView('df_2019_20')\n",
    "df_2020_21.createOrReplaceTempView('df_2020_21')\n",
    "df_2021_22.createOrReplaceTempView('df_2021_22')\n",
    "df_2022_23.createOrReplaceTempView('df_2022_23')\n",
    "df_2023_24.createOrReplaceTempView('df_2023_24')\n",
    "\n",
    "# Write sql queries to join tables\n",
    "query_1 = \"\"\"\n",
    "                SELECT * FROM df_2019_20\n",
    "                UNION\n",
    "                SELECT * FROM df_2020_21\n",
    "                UNION \n",
    "                SELECT * FROM df_2021_22\n",
    "                UNION\n",
    "                SELECT * FROM df_2022_23\n",
    "                UNION\n",
    "                SELECT * FROM df_2023_24\n",
    "\"\"\"\n",
    "\n",
    "# Load query and return dataframe\n",
    "offence_df = spark.sql(query_1)"
   ]
  },
  {
   "cell_type": "code",
   "execution_count": 6,
   "metadata": {},
   "outputs": [],
   "source": [
    "# Rename col to remove white space\n",
    "rename_cols = {\n",
    "                'Financial Year': 'Financial_Year',\n",
    "                'Financial Quarter':'Financial_Quarter',\n",
    "                'Force Name':'Force_Name',\n",
    "                'Offence Description':'Offence_Description',\n",
    "                'Offence Group':'Offence_Group',\n",
    "                'Offence Subgroup':'Offence_Subgroup',\n",
    "                'Offence Code':'Offence_Code',\n",
    "                'Number of Offences':'Number_of_Offences',\n",
    "                'Old PRC offence group': 'Old_PRC_offence_group',\n",
    "                'Old offence sub-group': 'Old_offence_sub-group',\n",
    "                'New ONS offence group': 'New_ONS_offence_group',\n",
    "                'New ONS sub-offence group': 'New_ONS_sub-offence_group'\n",
    "}\n",
    "\n",
    "# Loops through rename_cols and removes white space\n",
    "for old_name, new_name in rename_cols.items():\n",
    "    offence_df = offence_df.withColumnRenamed(old_name, new_name)\n",
    "    offence_ref = offence_ref.withColumnRenamed(old_name, new_name)\n"
   ]
  },
  {
   "cell_type": "code",
   "execution_count": 7,
   "metadata": {},
   "outputs": [],
   "source": [
    "# Drop duplicates in offence_ref\n",
    "offence_ref = offence_ref.dropDuplicates()\n",
    "\n",
    "# Create temporary views of the dataframes\n",
    "offence_df.createOrReplaceTempView('offence_df')\n",
    "offence_ref.createOrReplaceTempView('offence_ref')\n",
    "\n",
    "# Write sql query to join tables \n",
    "query_2 = \"\"\"\n",
    "                    SELECT * FROM offence_df\n",
    "                    INNER JOIN offence_ref \n",
    "                    ON offence_df.Offence_Code = offence_ref.Offence_Code;\n",
    "                \"\"\"\n",
    "\n",
    "#  Create offence_final with query\n",
    "offence_final = spark.sql(query_2)"
   ]
  },
  {
   "cell_type": "code",
   "execution_count": 8,
   "metadata": {},
   "outputs": [
    {
     "name": "stdout",
     "output_type": "stream",
     "text": [
      "root\n",
      " |-- Financial_Year: string (nullable = true)\n",
      " |-- Financial_Quarter: long (nullable = true)\n",
      " |-- Force_Name: string (nullable = true)\n",
      " |-- Offence_Description: string (nullable = true)\n",
      " |-- Offence_Group: string (nullable = true)\n",
      " |-- Offence_Subgroup: string (nullable = true)\n",
      " |-- Offence_Code: string (nullable = true)\n",
      " |-- Number_of_Offences: long (nullable = true)\n",
      " |-- Offence_Code: string (nullable = true)\n",
      " |-- Offence_Description: string (nullable = true)\n",
      " |-- Old_PRC_offence_group: string (nullable = true)\n",
      " |-- Old_offence_sub-group: string (nullable = true)\n",
      " |-- New_ONS_offence_group: string (nullable = true)\n",
      " |-- New_ONS_sub-offence_group: string (nullable = true)\n",
      "\n"
     ]
    }
   ],
   "source": [
    "# Print schema \n",
    "offence_final.printSchema()"
   ]
  },
  {
   "cell_type": "code",
   "execution_count": 31,
   "metadata": {},
   "outputs": [],
   "source": [
    "# Get year from financial year column\n",
    "offence_final = offence_final.withColumn('Financial_Year', substring('Financial_Year',  1,  4))\n",
    "\n",
    "# Convert Financial year column to int\n",
    "offence_final = offence_final.withColumn('Financial_Year',  offence_final.Financial_Year.cast('int'))"
   ]
  },
  {
   "cell_type": "code",
   "execution_count": 33,
   "metadata": {},
   "outputs": [
    {
     "name": "stdout",
     "output_type": "stream",
     "text": [
      "root\n",
      " |-- Financial_Year: integer (nullable = true)\n",
      " |-- Financial_Quarter: long (nullable = true)\n",
      " |-- Force_Name: string (nullable = true)\n",
      " |-- Offence_Description: string (nullable = true)\n",
      " |-- Offence_Group: string (nullable = true)\n",
      " |-- Offence_Subgroup: string (nullable = true)\n",
      " |-- Offence_Code: string (nullable = true)\n",
      " |-- Number_of_Offences: long (nullable = true)\n",
      " |-- Offence_Code: string (nullable = true)\n",
      " |-- Offence_Description: string (nullable = true)\n",
      " |-- Old_PRC_offence_group: string (nullable = true)\n",
      " |-- Old_offence_sub-group: string (nullable = true)\n",
      " |-- New_ONS_offence_group: string (nullable = true)\n",
      " |-- New_ONS_sub-offence_group: string (nullable = true)\n",
      "\n"
     ]
    }
   ],
   "source": [
    "offence_final.printSchema()"
   ]
  },
  {
   "cell_type": "code",
   "execution_count": 38,
   "metadata": {},
   "outputs": [
    {
     "name": "stderr",
     "output_type": "stream",
     "text": [
      "                                                                                \r"
     ]
    },
    {
     "name": "stdout",
     "output_type": "stream",
     "text": [
      "+-------+------------------+\n",
      "|summary|Number_of_Offences|\n",
      "+-------+------------------+\n",
      "|  count|             86768|\n",
      "|   mean|218.72708832749402|\n",
      "| stddev| 884.6202960002709|\n",
      "|    min|                 0|\n",
      "|    max|             29480|\n",
      "+-------+------------------+\n",
      "\n"
     ]
    }
   ],
   "source": [
    "# Descriptive statistics of  Numeric Column\n",
    "offence_final.describe(['Number_of_Offences']).show()"
   ]
  },
  {
   "cell_type": "code",
   "execution_count": 39,
   "metadata": {},
   "outputs": [],
   "source": [
    "# Covariance of FInancial year anf Number of offences"
   ]
  },
  {
   "cell_type": "code",
   "execution_count": 40,
   "metadata": {},
   "outputs": [],
   "source": [
    "# Covariance of FInancial quarter and Number of offences\n"
   ]
  },
  {
   "cell_type": "code",
   "execution_count": null,
   "metadata": {},
   "outputs": [],
   "source": [
    "# check for skewness of Number of Offences"
   ]
  },
  {
   "cell_type": "code",
   "execution_count": 47,
   "metadata": {},
   "outputs": [
    {
     "name": "stderr",
     "output_type": "stream",
     "text": [
      "                                                                                \r"
     ]
    },
    {
     "data": {
      "text/plain": [
       "<seaborn.axisgrid.FacetGrid at 0x7fe57de03a10>"
      ]
     },
     "execution_count": 47,
     "metadata": {},
     "output_type": "execute_result"
    },
    {
     "data": {
      "image/png": "[encoded data removed]",
      "text/plain": [
       "<Figure size 694.625x500 with 1 Axes>"
      ]
     },
     "metadata": {},
     "output_type": "display_data"
    }
   ],
   "source": [
    "# Plot of Numver of offences\n",
    "\n",
    "# Sample the dataframe\n",
    "offence_sample = offence_final.select('Number_of_Offences').sample(False, 0.50, 42)\n",
    "\n",
    "# Convert offence sample to pandas\n",
    "offence_pd = offence_sample.toPandas()\n",
    "\n",
    "# Plot \n",
    "sns.displot(offence_pd);\n",
    "\n",
    "#Lmplot of Numver of offence and financial year\n",
    "offence_sample_1 = offence_final.select('Number_of_Offences', 'Financial_Year').sample(False, 0.50, 42)\n",
    "\n",
    "# Convert to pandas\n",
    "offence_pd_1 = offence_sample_1.toPandas()\n",
    "\n",
    "#Plot\n",
    "sns.lmplot(y='Number_of_Offences', x='Financial_Year', data=offence_pd_1)"
   ]
  },
  {
   "cell_type": "code",
   "execution_count": null,
   "metadata": {},
   "outputs": [],
   "source": []
  },
  {
   "cell_type": "code",
   "execution_count": null,
   "metadata": {},
   "outputs": [],
   "source": []
  },
  {
   "cell_type": "code",
   "execution_count": null,
   "metadata": {},
   "outputs": [],
   "source": []
  }
 ],
 "metadata": {
  "kernelspec": {
   "display_name": "Python 3 (ipykernel)",
   "language": "python",
   "name": "python3"
  },
  "language_info": {
   "codemirror_mode": {
    "name": "ipython",
    "version": 3
   },
   "file_extension": ".py",
   "mimetype": "text/x-python",
   "name": "python",
   "nbconvert_exporter": "python",
   "pygments_lexer": "ipython3",
   "version": "3.11.5"
  }
 },
 "nbformat": 4,
 "nbformat_minor": 4
}
